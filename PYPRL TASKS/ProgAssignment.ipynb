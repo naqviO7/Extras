{
 "cells": [
  {
   "cell_type": "code",
   "execution_count": null,
   "metadata": {},
   "outputs": [],
   "source": [
    "#!/usr/bin/env python\n",
    "\n",
    "##  BGCD.py\n",
    "\n",
    "import sys\n",
    "if len(sys.argv) != 3:\n",
    "    sys.exit(\"\\nUsage:   %s  <integer>  <integer>\\n\" % sys.argv[0])\n",
    "\n",
    "a, b = int(sys.argv[1]), int(sys.argv[2])\n",
    "\n",
    "\n",
    "def bgcd(a, b):\n",
    "    if a == b:\n",
    "        return a  # (A)\n",
    "    if a == 0:\n",
    "        return b  # (B)\n",
    "    if b == 0:\n",
    "        return a  # (C)\n",
    "    if (~a & 1):  # (D)\n",
    "        if (b & 1):  # (E)\n",
    "            return bgcd(a >> 1, b)  # (F)\n",
    "        else:  # (G)\n",
    "            return bgcd(a >> 1, b >> 1) << 1  # (H)\n",
    "    if (~b & 1):  # (I)\n",
    "        return bgcd(a, b >> 1)  # (J)\n",
    "    if (a > b):  # (K)\n",
    "        return bgcd((a-b) >> 1, b)  # (L)\n",
    "    return bgcd((b-a) >> 1, a)  # (M)\n",
    "\n",
    "\n",
    "gcdval = bgcd(a, b)\n",
    "print(\"\\nBGCD: %d\\n\" % gcdval)\n",
    "\n",
    "\n",
    "## FindMI.py\n",
    "\n",
    "\n",
    "if __name__ == '__main__':\n",
    "    if len(sys.argv) != 3:\n",
    "        sys.stderr.write(\"Usage: %s   <integer>   <modulus>\\n\" % sys.argv[0])\n",
    "        sys.exit(1)\n",
    "\n",
    "    NUM, MOD = int(sys.argv[1]), int(sys.argv[2])\n",
    "\n",
    "    def MI(num, mod):\n",
    "        '''\n",
    "        This function uses ordinary integer arithmetic implementation of the\n",
    "        Extended Euclid's Algorithm to find the MI of the first-arg integer\n",
    "        vis-a-vis the second-arg integer.\n",
    "        '''\n",
    "        NUM = num\n",
    "        MOD = mod\n",
    "        x, x_old = 0, 1\n",
    "        y, y_old = 1, 0\n",
    "        while mod:\n",
    "            q = num // mod\n",
    "            num, mod = mod, num % mod\n",
    "            x, x_old = x_old - q * x, x\n",
    "            y, y_old = y_old - q * y, y\n",
    "        if num != 1:\n",
    "            print(\"\\nNO MI. However, the GCD of %d and %d is %u\\n\" %\n",
    "                  (NUM, MOD, num))\n",
    "        else:\n",
    "            MI = (x_old + MOD) % MOD\n",
    "            print(\"\\nMI of %d modulo %d is: %d\\n\" % (NUM, MOD, MI))\n",
    "    MI(NUM, MOD)\n",
    "\n",
    "\n",
    "\n",
    "\n",
    "##  GCD.py\n",
    "\n",
    "if len(sys.argv) != 3:\n",
    "    sys.exit(\"\\nUsage:   %s  <integer>  <integer>\\n\" % sys.argv[0])\n",
    "\n",
    "a, b = int(sys.argv[1]), int(sys.argv[2])\n",
    "\n",
    "while b:\n",
    "    a, b = b, a % b\n",
    "\n",
    "print(\"\\nGCD: %d\\n\" % a)\n"
   ]
  },
  {
   "cell_type": "code",
   "execution_count": 3,
   "metadata": {},
   "outputs": [
    {
     "name": "stdout",
     "output_type": "stream",
     "text": [
      "NO MI. However, the GCD of 6 and 9 is 3\n"
     ]
    }
   ],
   "source": [
    "#!/usr/bin/env python\n",
    "\n",
    "##  Task1.py\n",
    "import FindMI\n",
    "\n",
    "num = int(input('Enter value of Number: '))\n",
    "mod = int(input('Enter value of Modulos: '))\n",
    "\n",
    "FindMI.MI(num, mod)\n"
   ]
  }
 ],
 "metadata": {
  "interpreter": {
   "hash": "e7370f93d1d0cde622a1f8e1c04877d8463912d04d973331ad4851f04de6915a"
  },
  "kernelspec": {
   "display_name": "Python 3.9.7 64-bit",
   "name": "python3"
  },
  "language_info": {
   "codemirror_mode": {
    "name": "ipython",
    "version": 3
   },
   "file_extension": ".py",
   "mimetype": "text/x-python",
   "name": "python",
   "nbconvert_exporter": "python",
   "pygments_lexer": "ipython3",
   "version": "3.9.7"
  },
  "orig_nbformat": 4
 },
 "nbformat": 4,
 "nbformat_minor": 2
}
